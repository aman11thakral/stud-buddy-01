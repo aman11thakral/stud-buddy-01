{
 "cells": [
  {
   "cell_type": "code",
   "execution_count": 5,
   "id": "aa802e81-65bc-40c1-9a41-38c1750e6bbc",
   "metadata": {},
   "outputs": [
    {
     "name": "stdout",
     "output_type": "stream",
     "text": [
      " * Serving Flask app '__main__'\n",
      " * Debug mode: off\n"
     ]
    },
    {
     "name": "stderr",
     "output_type": "stream",
     "text": [
      "WARNING: This is a development server. Do not use it in a production deployment. Use a production WSGI server instead.\n",
      " * Running on http://127.0.0.1:3000\n",
      "Press CTRL+C to quit\n"
     ]
    }
   ],
   "source": [
    "from flask import Flask, request, jsonify\n",
    "import pickle\n",
    "import numpy as np\n",
    "import pandas as pd\n",
    "from threading import Thread\n",
    "\n",
    "# Initialize Flask app\n",
    "app = Flask(__name__)\n",
    "\n",
    "# Load the model and preprocessing objects\n",
    "with open(\"preprocessing_objects.pkl\", \"rb\") as f:\n",
    "    objects = pickle.load(f)\n",
    "encoder = objects['encoder']\n",
    "skills_binarizer = objects['skills_binarizer']\n",
    "hobbies_binarizer = objects['hobbies_binarizer']\n",
    "scaler = objects['scaler']\n",
    "pca = objects['pca']\n",
    "\n",
    "with open(\"kmeans_model.pkl\", \"rb\") as f:\n",
    "    kmeans = pickle.load(f)\n",
    "\n",
    "# Function to safely transform skills and hobbies\n",
    "def safe_transform(binarizer, data, binarizer_type):\n",
    "    try:\n",
    "        # Adjust the binarizer's classes dynamically\n",
    "        binarizer.classes_ = np.unique(np.concatenate([binarizer.classes_, data]))\n",
    "        return binarizer.transform([data])\n",
    "    except Exception as e:\n",
    "        print(f\"Warning: Issue in {binarizer_type} transformation - {e}\")\n",
    "        # Return a zero array if transformation fails\n",
    "        return np.zeros((1, len(binarizer.classes_)))\n",
    "\n",
    "# Preprocess user data with robust handling\n",
    "def preprocess_user_data(user_data):\n",
    "    try:\n",
    "        # Convert input data to a DataFrame\n",
    "        user_data_df = pd.DataFrame([user_data])\n",
    "\n",
    "        # Handle missing or unexpected columns\n",
    "        for col in ['Degree', 'Institute', 'age', 'Skills', 'Hobbies']:\n",
    "            if col not in user_data_df.columns:\n",
    "                print(f\"Warning: Missing column '{col}', assigning default.\")\n",
    "                user_data_df[col] = ['Unknown'] if col in ['Degree', 'Institute'] else [0 if col == 'age' else []]\n",
    "\n",
    "        # Scale age\n",
    "        age_scaled = scaler.transform(user_data_df[['age']])\n",
    "\n",
    "        # Transform categorical data\n",
    "        categorical_encoded = encoder.transform(user_data_df[['Degree', 'Institute']])\n",
    "\n",
    "        # Safely transform skills and hobbies\n",
    "        skills_encoded = safe_transform(skills_binarizer, user_data.get('Skills', []), 'skills')\n",
    "        hobbies_encoded = safe_transform(hobbies_binarizer, user_data.get('Hobbies', []), 'hobbies')\n",
    "\n",
    "        # Combine all features\n",
    "        encoded_data = np.hstack([age_scaled, categorical_encoded, skills_encoded, hobbies_encoded])\n",
    "\n",
    "        # Adjust feature size to match PCA expectations\n",
    "        expected_features = pca.components_.shape[1]\n",
    "        if encoded_data.shape[1] != expected_features:\n",
    "            if encoded_data.shape[1] > expected_features:\n",
    "                encoded_data = encoded_data[:, :expected_features]\n",
    "            else:\n",
    "                padding = np.zeros((encoded_data.shape[0], expected_features - encoded_data.shape[1]))\n",
    "                encoded_data = np.hstack([encoded_data, padding])\n",
    "\n",
    "        # Apply PCA\n",
    "        reduced_data = pca.transform(encoded_data)\n",
    "        return reduced_data\n",
    "    except Exception as e:\n",
    "        print(f\"Error during preprocessing: {e}\")\n",
    "        # Return a default cluster input if preprocessing fails\n",
    "        return np.zeros((1, pca.n_components_))\n",
    "\n",
    "# API endpoint for predicting cluster\n",
    "@app.route('/predict-cluster', methods=['POST'])\n",
    "def predict_cluster():\n",
    "    try:\n",
    "        user_data = request.json\n",
    "\n",
    "        # Preprocess the input data\n",
    "        processed_data = preprocess_user_data(user_data)\n",
    "\n",
    "        # Predict the cluster\n",
    "        cluster = kmeans.predict(processed_data)\n",
    "        return jsonify({'cluster': int(cluster[0])})\n",
    "    except Exception as e:\n",
    "        print(f\"Error in prediction: {e}\")\n",
    "        # Return a default cluster if something goes wrong\n",
    "        return jsonify({'cluster': -1, 'message': 'Default cluster assigned due to an error'}), 200\n",
    "\n",
    "# Run the Flask app in a separate thread\n",
    "def run_app():\n",
    "    app.run(port=3000, debug=False, use_reloader=False)\n",
    "\n",
    "flask_thread = Thread(target=run_app)\n",
    "flask_thread.start()\n"
   ]
  },
  {
   "cell_type": "code",
   "execution_count": 97,
   "id": "701a5fec-c65e-41be-8915-33d785367365",
   "metadata": {},
   "outputs": [
    {
     "name": "stderr",
     "output_type": "stream",
     "text": [
      "127.0.0.1 - - [06/Dec/2024 05:33:10] \"POST /predict-cluster HTTP/1.1\" 200 -\n"
     ]
    },
    {
     "name": "stdout",
     "output_type": "stream",
     "text": [
      "{'cluster': 0}\n"
     ]
    }
   ],
   "source": [
    "import requests\n",
    "\n",
    "# Sample user data\n",
    "user_data = {\n",
    "    \"Degree\": \"Associate Degree\",\n",
    "    \"Institute\": \"IIT Kanpur\",\n",
    "    \"age\": 20,\n",
    "    \"Skills\": ['Embedded Systems'],\n",
    "    \"Hobbies\": [\"Writing\"]\n",
    "}\n",
    "\n",
    "# Send a POST request to the Flask server\n",
    "response = requests.post(\"http://127.0.0.1:3000/predict-cluster\", json=user_data)\n",
    "\n",
    "# Print the response from the API\n",
    "print(response.json())\n"
   ]
  },
  {
   "cell_type": "code",
   "execution_count": null,
   "id": "e40b87e6-e466-4130-a133-ef732d80aa71",
   "metadata": {},
   "outputs": [],
   "source": []
  }
 ],
 "metadata": {
  "kernelspec": {
   "display_name": "Python 3 (ipykernel)",
   "language": "python",
   "name": "python3"
  },
  "language_info": {
   "codemirror_mode": {
    "name": "ipython",
    "version": 3
   },
   "file_extension": ".py",
   "mimetype": "text/x-python",
   "name": "python",
   "nbconvert_exporter": "python",
   "pygments_lexer": "ipython3",
   "version": "3.12.7"
  }
 },
 "nbformat": 4,
 "nbformat_minor": 5
}
